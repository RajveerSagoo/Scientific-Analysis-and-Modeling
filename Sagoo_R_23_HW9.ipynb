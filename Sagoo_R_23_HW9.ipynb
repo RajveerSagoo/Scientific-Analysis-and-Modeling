{
 "cells": [
  {
   "cell_type": "markdown",
   "metadata": {},
   "source": [
    "# Phyiscs Problems - Lectures 18 & 19 - Homework 9 \n",
    "\n",
    "FALL 2023\n"
   ]
  },
  {
   "cell_type": "markdown",
   "metadata": {},
   "source": [
    "### 1) Altitude of a satellite\n",
    "\n",
    "A satellite is to be launched into a circular orbit around the Earth so that it orbits the planet once every T seconds.\n",
    "\n",
    "The altitude h above the Earth’s surface that the satellite must have is:\n",
    "\n",
    "$$h = \\left( \\frac{G M T^2}{4\\pi^2} \\right)^{1/3} - R$$\n",
    "\n",
    "where $G = 6.67 \\times 10^{-11}$ m$^3$ kg$^{-1}$ s$^{-2}$\n",
    "is Newton's gravitational constant, $M = 5.97 \\times 10^{24}$ kg is the mass of the Earth, and $R = 6371$ km is its radius.\n",
    "\n",
    "#### Write a program that asks the user to enter the desired value of T and then calculates and prints out the correct altitude in meters.\n"
   ]
  },
  {
   "cell_type": "code",
   "execution_count": 1,
   "metadata": {},
   "outputs": [
    {
     "name": "stdout",
     "output_type": "stream",
     "text": [
      "Enter the desired value of T (orbital period in seconds): 5\n",
      "The satellite must have an altitude of -6307822.83 meters above the Earth's surface.\n"
     ]
    }
   ],
   "source": [
    "def compute_altitude(T):\n",
    "    \n",
    "    G = 6.67e-11 \n",
    "    M = 5.97e24   \n",
    "    R = 6371e3    \n",
    "\n",
    "    \n",
    "    h = ((G * M * T**2) / (4 * 3.141592653589793**2))**(1/3) - R\n",
    "\n",
    "    return h\n",
    "\n",
    "\n",
    "T = float(input(\"Enter the desired value of T (orbital period in seconds): \"))\n",
    "\n",
    "\n",
    "altitude = compute_altitude(T)\n",
    "\n",
    "\n",
    "print(f\"The satellite must have an altitude of {altitude:.2f} meters above the Earth's surface.\")"
   ]
  },
  {
   "cell_type": "markdown",
   "metadata": {},
   "source": [
    "Use your program to calculate the altitudes of satellites that orbit the Earth once\n",
    "a day (so-called “geosynchronous” orbit), once every 90 minutes, and once every\n",
    "45 minutes. What do you conclude from the last of these calculations?\n",
    "\n",
    "\n",
    "\n"
   ]
  },
  {
   "cell_type": "code",
   "execution_count": 2,
   "metadata": {},
   "outputs": [
    {
     "name": "stdout",
     "output_type": "stream",
     "text": [
      "Enter the desired value of T (orbital period in seconds): 86400\n",
      "The satellite must have an altitude of 35855910.18 meters above the Earth's surface.\n"
     ]
    }
   ],
   "source": [
    "def compute_altitude(T):\n",
    "   \n",
    "    G = 6.67e-11 \n",
    "    M = 5.97e24   \n",
    "    R = 6371e3    \n",
    "\n",
    " \n",
    "    h = ((G * M * T**2) / (4 * 3.141592653589793**2))**(1/3) - R\n",
    "\n",
    "    return h\n",
    "\n",
    "\n",
    "T = float(input(\"Enter the desired value of T (orbital period in seconds): \"))\n",
    "\n",
    "\n",
    "altitude = compute_altitude(T)\n",
    "\n",
    "\n",
    "print(f\"The satellite must have an altitude of {altitude:.2f} meters above the Earth's surface.\")"
   ]
  },
  {
   "cell_type": "code",
   "execution_count": 3,
   "metadata": {},
   "outputs": [
    {
     "name": "stdout",
     "output_type": "stream",
     "text": [
      "Enter the desired value of T (orbital period in seconds): 5400\n",
      "The satellite must have an altitude of 279321.63 meters above the Earth's surface.\n"
     ]
    }
   ],
   "source": [
    "def compute_altitude(T):\n",
    "    \n",
    "    G = 6.67e-11  \n",
    "    M = 5.97e24  \n",
    "    R = 6371e3    \n",
    "\n",
    "   \n",
    "    h = ((G * M * T**2) / (4 * 3.141592653589793**2))**(1/3) - R\n",
    "\n",
    "    return h\n",
    "\n",
    "\n",
    "T = float(input(\"Enter the desired value of T (orbital period in seconds): \"))\n",
    "\n",
    "\n",
    "altitude = compute_altitude(T)\n",
    "\n",
    "\n",
    "print(f\"The satellite must have an altitude of {altitude:.2f} meters above the Earth's surface.\")"
   ]
  },
  {
   "cell_type": "code",
   "execution_count": 4,
   "metadata": {},
   "outputs": [
    {
     "name": "stdout",
     "output_type": "stream",
     "text": [
      "Enter the desired value of T (orbital period in seconds): 2700\n",
      "The satellite must have an altitude of -2181559.90 meters above the Earth's surface.\n"
     ]
    }
   ],
   "source": [
    "def compute_altitude(T):\n",
    "\n",
    "    G = 6.67e-11  \n",
    "    M = 5.97e24  \n",
    "    R = 6371e3   \n",
    "\n",
    "    \n",
    "    h = ((G * M * T**2) / (4 * 3.141592653589793**2))**(1/3) - R\n",
    "\n",
    "    return h\n",
    "\n",
    "\n",
    "T = float(input(\"Enter the desired value of T (orbital period in seconds): \"))\n",
    "\n",
    "\n",
    "altitude = compute_altitude(T)\n",
    "\n",
    "\n",
    "print(f\"The satellite must have an altitude of {altitude:.2f} meters above the Earth's surface.\")"
   ]
  },
  {
   "cell_type": "markdown",
   "metadata": {},
   "source": [
    "Technically a geosynchronous satellite is one that orbits the Earth once persidereal\n",
    "day, which is 23.93 hours, not 24 hours. Why is this? And how much difference\n",
    "will it make to the altitude of the satellite?"
   ]
  },
  {
   "cell_type": "code",
   "execution_count": 5,
   "metadata": {},
   "outputs": [
    {
     "name": "stdout",
     "output_type": "stream",
     "text": [
      "Enter the desired value of T (orbital period in seconds): 86148\n",
      "The satellite must have an altitude of 35773762.33 meters above the Earth's surface.\n"
     ]
    }
   ],
   "source": [
    "def compute_altitude(T):\n",
    "\n",
    "    G = 6.67e-11  \n",
    "    M = 5.97e24   \n",
    "    R = 6371e3   \n",
    "\n",
    " \n",
    "    h = ((G * M * T**2) / (4 * 3.141592653589793**2))**(1/3) - R\n",
    "\n",
    "    return h\n",
    "\n",
    "\n",
    "T = float(input(\"Enter the desired value of T (orbital period in seconds): \"))\n",
    "\n",
    "\n",
    "altitude = compute_altitude(T)\n",
    "\n",
    "\n",
    "print(f\"The satellite must have an altitude of {altitude:.2f} meters above the Earth's surface.\")"
   ]
  },
  {
   "cell_type": "code",
   "execution_count": 6,
   "metadata": {},
   "outputs": [
    {
     "name": "stdout",
     "output_type": "stream",
     "text": [
      "Enter the desired value of T (orbital period in seconds): 86400\n",
      "The satellite must have an altitude of 35855910.18 meters above the Earth's surface.\n"
     ]
    }
   ],
   "source": [
    "def compute_altitude(T):\n",
    "    \n",
    "    G = 6.67e-11  \n",
    "    M = 5.97e24  \n",
    "    R = 6371e3   \n",
    "\n",
    "  \n",
    "    h = ((G * M * T**2) / (4 * 3.141592653589793**2))**(1/3) - R\n",
    "\n",
    "    return h\n",
    "\n",
    "\n",
    "T = float(input(\"Enter the desired value of T (orbital period in seconds): \"))\n",
    "\n",
    "\n",
    "altitude = compute_altitude(T)\n",
    "\n",
    "\n",
    "print(f\"The satellite must have an altitude of {altitude:.2f} meters above the Earth's surface.\")"
   ]
  },
  {
   "cell_type": "markdown",
   "metadata": {},
   "source": [
    "A solar day (24 hours) is the time for the Sun to return to the same position in our sky. But, as Earth orbits the Sun, it needs to rotate a bit extra for the Sun to appear in the same spot, making the solar day 24 hours.\n",
    "A sidereal day (23.93 hours) is how long Earth takes to complete one rotation relative to distant stars, not the Sun. This is Earth's true rotation time.\n",
    "\n",
    "The Altitude of the Satelite changed about 82 kilometers."
   ]
  },
  {
   "cell_type": "markdown",
   "metadata": {},
   "source": [
    "#### Modify your code to calculate the times from 0.5 hour  to 30 days, in steps of 0.5 hours.   Then plot those data points (time vs h) with properly labled axes.  Plot orbits with height below 0 as red, and plots positive heeghts with times less than geosynchronous in blue and those longer in green."
   ]
  },
  {
   "cell_type": "code",
   "execution_count": 5,
   "metadata": {},
   "outputs": [
    {
     "data": {
      "image/png": "[encoded data removed]",
      "text/plain": [
       "<Figure size 1000x600 with 1 Axes>"
      ]
     },
     "metadata": {},
     "output_type": "display_data"
    }
   ],
   "source": [
    "import matplotlib.pyplot as plt\n",
    "import numpy as np\n",
    "\n",
    "def compute_altitude(T):\n",
    "    G = 6.67e-11 \n",
    "    M = 5.97e24  \n",
    "    R = 6371e3 \n",
    "\n",
    "    h = ((G * M * T**2) / (4 * 3.141592653589793**2))**(1/3) - R\n",
    "    return h\n",
    "\n",
    "\n",
    "times = np.arange(0.5, 30*24 + 0.5, 0.5) * 3600  \n",
    "\n",
    "\n",
    "altitudes = [compute_altitude(T) for T in times]\n",
    "\n",
    "\n",
    "plt.figure(figsize=(10, 6))\n",
    "\n",
    "\n",
    "for T, h in zip(times, altitudes):\n",
    "    if h < 0:\n",
    "        plt.scatter(T/3600, h/1000, c='red')  \n",
    "    elif T < 23.93*3600:\n",
    "        plt.scatter(T/3600, h/1000, c='blue')\n",
    "    else:\n",
    "        plt.scatter(T/3600, h/1000, c='green')\n",
    "\n",
    "# Label axes\n",
    "plt.xlabel('Time (hours)')\n",
    "plt.ylabel('Altitude (km)')\n",
    "plt.title('Time vs. Altitude')\n",
    "plt.grid(True)\n",
    "plt.tight_layout()\n",
    "plt.show()"
   ]
  },
  {
   "cell_type": "markdown",
   "metadata": {},
   "source": [
    "### 2) Special Relativity\n",
    "\n",
    "A spaceship travels from Earth in a straight line at a (relativistic)\n",
    "speed $v$ to another planet $x$ light years away. Write a program to ask\n",
    "the user for the value of $x$ and the speed $v$ as a fraction of the speed\n",
    "of light, then print out the time in years that the spaceship takes to\n",
    "reach its destination (a) in the rest frame of an observer on Earth\n",
    "and (b) as perceived by a passenger on board the ship.\n",
    "\n",
    "$$x' = \\gamma (x - vt)$$\n",
    "\n",
    "$$t' = \\gamma \\left(t - \\frac{v x}{c^2}\\right)$$\n",
    "\n",
    "$$\\gamma = \\frac{1}{\\sqrt{1 - \\frac{v^2}{c^2}}}$$\n"
   ]
  },
  {
   "cell_type": "code",
   "execution_count": null,
   "metadata": {},
   "outputs": [],
   "source": []
  },
  {
   "cell_type": "markdown",
   "metadata": {},
   "source": [
    "#### Use your program to calculate the answers for a planet 10 light years away with $v = 0.90c$,  $v = 0.98c$, $v = 0.999c$."
   ]
  },
  {
   "cell_type": "code",
   "execution_count": 2,
   "metadata": {},
   "outputs": [
    {
     "name": "stdout",
     "output_type": "stream",
     "text": [
      "Enter the distance to the planet in light years: 10\n",
      "Enter the speed of the spaceship as a fraction of the speed of light (between 0 and 1): 0.90\n",
      "\n",
      "Time taken to reach the planet according to an observer on Earth: 11.11 years\n",
      "Time taken to reach the planet as perceived by a passenger on the ship: 4.84 years\n",
      "\n",
      "For v = 0.9c:\n",
      "Time taken to reach the planet according to an observer on Earth: 11.11 years\n",
      "Time taken to reach the planet as perceived by a passenger on the ship: 4.84 years\n",
      "\n",
      "For v = 0.98c:\n",
      "Time taken to reach the planet according to an observer on Earth: 10.20 years\n",
      "Time taken to reach the planet as perceived by a passenger on the ship: 2.03 years\n",
      "\n",
      "For v = 0.999c:\n",
      "Time taken to reach the planet according to an observer on Earth: 10.01 years\n",
      "Time taken to reach the planet as perceived by a passenger on the ship: 0.45 years\n"
     ]
    }
   ],
   "source": [
    "import math\n",
    "\n",
    "def relativistic_time(x, v):\n",
    "    c = 1  \n",
    "    gamma = 1 / math.sqrt(1 - v**2 / c**2)\n",
    "    \n",
    "   \n",
    "    t_earth = x / (v * c)\n",
    "    \n",
    "\n",
    "    t_ship = gamma * (t_earth - (v * x) / c**2)\n",
    "    \n",
    "    return t_earth, t_ship\n",
    "\n",
    "\n",
    "x = float(input(\"Enter the distance to the planet in light years: \"))\n",
    "v = float(input(\"Enter the speed of the spaceship as a fraction of the speed of light (between 0 and 1): \"))\n",
    "\n",
    "\n",
    "t_earth, t_ship = relativistic_time(x, v)\n",
    "\n",
    "print(f\"\\nTime taken to reach the planet according to an observer on Earth: {t_earth:.2f} years\")\n",
    "print(f\"Time taken to reach the planet as perceived by a passenger on the ship: {t_ship:.2f} years\")\n",
    "\n",
    "\n",
    "x = 10  \n",
    "speeds = [0.90, 0.98, 0.999]  \n",
    "for v in speeds:\n",
    "    t_earth, t_ship = relativistic_time(x, v)\n",
    "    print(f\"\\nFor v = {v}c:\")\n",
    "    print(f\"Time taken to reach the planet according to an observer on Earth: {t_earth:.2f} years\")\n",
    "    print(f\"Time taken to reach the planet as perceived by a passenger on the ship: {t_ship:.2f} years\")\n",
    "    "
   ]
  },
  {
   "cell_type": "markdown",
   "metadata": {},
   "source": [
    "### 3) The quadratic equation\n",
    "\n",
    " Write a program that takes as input three numbers, $a$, $b$, and $c$, and prints out the two solutions to the quadratic equation $ax^2 + bx + c = 0$ using the standard\n",
    "formula:\n",
    "\n",
    "$$x = \\frac{-b \\pm \\sqrt{b^2 - 4ac}}{2a}$$\n",
    "\n",
    "Use your program to compute the solutions of $0.001x^2 + 1000x + 0.001 = 0$."
   ]
  },
  {
   "cell_type": "code",
   "execution_count": 7,
   "metadata": {},
   "outputs": [
    {
     "name": "stdout",
     "output_type": "stream",
     "text": [
      "Solutions to the equation: x1 = -9.999894245993346e-07, x2 = -999999.999999\n"
     ]
    }
   ],
   "source": [
    "import math\n",
    "\n",
    "def solve_quadratic(a, b, c):\n",
    "   \n",
    "    delta = b**2 - 4*a*c\n",
    "\n",
    "    if delta > 0:\n",
    "        x1 = (-b + math.sqrt(delta)) / (2*a)\n",
    "        x2 = (-b - math.sqrt(delta)) / (2*a)\n",
    "        return (x1, x2)\n",
    "    elif delta == 0:\n",
    "        x = -b / (2*a)\n",
    "        return (x, x)\n",
    "    else:\n",
    "        real_part = -b / (2*a)\n",
    "        imaginary_part = math.sqrt(abs(delta)) / (2*a)\n",
    "        return (complex(real_part, imaginary_part), complex(real_part, -imaginary_part))\n",
    "\n",
    "\n",
    "a = 0.001\n",
    "b = 1000\n",
    "c = 0.001\n",
    "\n",
    "\n",
    "solutions = solve_quadratic(a, b, c)\n",
    "print(f\"Solutions to the equation: x1 = {solutions[0]}, x2 = {solutions[1]}\")"
   ]
  },
  {
   "cell_type": "markdown",
   "metadata": {},
   "source": [
    "There is another way to write the solutions to a quadratic equation. Multiplying top and bottom of the solution above by $-b \\mp \\sqrt{b^2 - 4ac}$, show that the solutions\n",
    "can also be written as:\n",
    "\n",
    "$$x = \\frac{2c}{-b \\mp \\sqrt{b^2 - 4ac}}$$\n",
    "\n",
    "Add further lines to your program to print these values in addition to the earlier ones and again use the program to solve $0.001x^2 + 1000x + 0.001 = 0$. What do you see? How do you explain it?"
   ]
  },
  {
   "cell_type": "code",
   "execution_count": 8,
   "metadata": {},
   "outputs": [
    {
     "name": "stdout",
     "output_type": "stream",
     "text": [
      "Standard solutions to the equation: x1 = -9.999894245993346e-07, x2 = -999999.999999\n",
      "Alternative solutions to the equation: x1 = -1.000000000001e-06, x2 = -1000010.5755125057\n"
     ]
    }
   ],
   "source": [
    "import math\n",
    "\n",
    "def solve_quadratic(a, b, c):\n",
    "  \n",
    "    delta = b**2 - 4*a*c\n",
    "\n",
    "    if delta > 0:\n",
    "        x1 = (-b + math.sqrt(delta)) / (2*a)\n",
    "        x2 = (-b - math.sqrt(delta)) / (2*a)\n",
    "      \n",
    "        alt_x1 = (2*c) / (-b - math.sqrt(delta))\n",
    "        alt_x2 = (2*c) / (-b + math.sqrt(delta))\n",
    "        return (x1, x2, alt_x1, alt_x2)\n",
    "    elif delta == 0:\n",
    "        x = -b / (2*a)\n",
    "        alt_x = 2*c / -b\n",
    "        return (x, x, alt_x, alt_x)\n",
    "    else:\n",
    "        real_part = -b / (2*a)\n",
    "        imaginary_part = math.sqrt(abs(delta)) / (2*a)\n",
    "        alt_real_part = 2*c / -b\n",
    "        alt_imaginary_part = 2*c / (-b + math.sqrt(abs(delta)))\n",
    "        return (complex(real_part, imaginary_part), complex(real_part, -imaginary_part), \n",
    "                complex(alt_real_part, alt_imaginary_part), complex(alt_real_part, -alt_imaginary_part))\n",
    "\n",
    "\n",
    "a = 0.001\n",
    "b = 1000\n",
    "c = 0.001\n",
    "\n",
    "\n",
    "solutions = solve_quadratic(a, b, c)\n",
    "print(f\"Standard solutions to the equation: x1 = {solutions[0]}, x2 = {solutions[1]}\")\n",
    "print(f\"Alternative solutions to the equation: x1 = {solutions[2]}, x2 = {solutions[3]}\")"
   ]
  },
  {
   "cell_type": "markdown",
   "metadata": {},
   "source": [
    "Using what you have learned, write a new program that calculates both roots of a quadratic equation accurately in all cases."
   ]
  },
  {
   "cell_type": "code",
   "execution_count": 10,
   "metadata": {},
   "outputs": [
    {
     "name": "stdout",
     "output_type": "stream",
     "text": [
      "Standard solutions: x1 = -9.999894245993346e-07, x2 = -999999.999999\n",
      "Alternative solutions: x1 = -1.000000000001e-06, x2 = -1000010.5755125057\n"
     ]
    }
   ],
   "source": [
    "import math\n",
    "\n",
    "def quadratic_solutions(a, b, c):\n",
    "    discriminant = math.sqrt(b**2 - 4*a*c)\n",
    "    \n",
    "\n",
    "    x1 = (-b + discriminant) / (2*a)\n",
    "    x2 = (-b - discriminant) / (2*a)\n",
    "    \n",
    "\n",
    "    alt_x1 = (2*c) / (-b - discriminant)\n",
    "    alt_x2 = (2*c) / (-b + discriminant)\n",
    "    \n",
    "    return (x1, x2, alt_x1, alt_x2)\n",
    "\n",
    "a, b, c = 0.001, 1000, 0.001\n",
    "x1, x2, alt_x1, alt_x2 = quadratic_solutions(a, b, c)\n",
    "\n",
    "print(f\"Standard solutions: x1 = {x1}, x2 = {x2}\")\n",
    "print(f\"Alternative solutions: x1 = {alt_x1}, x2 = {alt_x2}\")"
   ]
  },
  {
   "cell_type": "markdown",
   "metadata": {},
   "source": [
    "### 4) Planetary orbits\n",
    "\n",
    "The orbit in space of one body around another, such as a planet around the Sun, need not be circular. In general it takes the form of an ellipse, with the body sometimes closer in and sometimes further out. If you are given the distance $l_1$ of closest approach that a planet makes to the Sun, also called its perihelion, and its linear velocity $v_1$ at *perihelion*, then any other property of the orbit can be calculated from these two as follows.\n",
    "\n",
    "Kepler’s second law tells us that the distance $l_2$ and velocity $v_2$ of the planet at its most distant point, or *aphelion*, satisfy $l_2 v_2 = l_1 v_1$. \n",
    "\n",
    "\n",
    "Given the values of $v_1$, $l_1$, and $l_2$, other parameters of the orbit are given by simple formulas can that be derived from Kepler’s laws and the fact that the orbit is an ellipse:\n",
    "\n",
    "Semi-Major Axis $$ a = \\frac{1}{2} (l_1 + l_2) $$ \n",
    "Semi-Minor Axis: $$ b = \\sqrt{l_1  l_2} $$ \n",
    "Orbital Period: $$ T = \\frac{2 \\pi a b}{l_1 v_1} $$ \n",
    "Orbital eccentricity:  $$ e = \\frac{l_2 - l_1}{l_2 + l_1}$$\n",
    "\n",
    "#### Write a program with functions that asks the user to enter the distance to the Sun and velocity at perihelion, then calculates and prints the quantities $l2$, $v2$, $a$, $b$, $T$, and $e$.\n",
    "\n",
    "\n"
   ]
  },
  {
   "cell_type": "code",
   "execution_count": 18,
   "metadata": {},
   "outputs": [
    {
     "name": "stdout",
     "output_type": "stream",
     "text": [
      "For Earth:\n",
      "Distance to the Sun at aphelion (l2): 4455217700000000.0\n",
      "Velocity at aphelion (u2): 30287.0\n",
      "Semi-Major Axis (a): 2227682400000000.0\n",
      "Semi-Minor Axis (b): 25600049290382.234\n",
      "Orbital Period (T): 80427582209506.28 seconds or approximately 2548596.2877248675 years\n",
      "Orbital eccentricity (e): 0.9999339672477549\n",
      "\n",
      "For Halley's comet:\n",
      "Distance to the Sun at aphelion (l2): 4789282070000000.0\n",
      "Velocity at aphelion (u2): 54529.0\n",
      "Semi-Major Axis (a): 2394684950000000.0\n",
      "Semi-Minor Axis (b): 20509574452145.516\n",
      "Orbital Period (T): 64433910050257.4 seconds or approximately 2041787.399873799 years\n",
      "Orbital eccentricity (e): 0.9999633229415001\n"
     ]
    }
   ],
   "source": [
    "import math\n",
    "\n",
    "def compute_parameters(l1, v1):\n",
    "    l2 = l1 * v1\n",
    "    u2 = l2 / l1\n",
    "\n",
    "    a = 0.5 * (l1 + l2)\n",
    "    b = math.sqrt(l1 * l2)\n",
    "    T = (2 * math.pi * a * b) / (l1 * v1)\n",
    "    e = (l2 - l1) / (l2 + l1)\n",
    "\n",
    "    return l2, u2, a, b, T, e\n",
    "\n",
    "\n",
    "l1_earth = 1.4710e11\n",
    "v1_earth = 3.0287e4\n",
    "\n",
    "l2_earth, u2_earth, a_earth, b_earth, T_earth, e_earth = compute_parameters(l1_earth, v1_earth)\n",
    "\n",
    "\n",
    "print(\"For Earth:\")\n",
    "print(f\"Distance to the Sun at aphelion (l2): {l2_earth}\")\n",
    "print(f\"Velocity at aphelion (u2): {u2_earth}\")\n",
    "print(f\"Semi-Major Axis (a): {a_earth}\")\n",
    "print(f\"Semi-Minor Axis (b): {b_earth}\")\n",
    "print(f\"Orbital Period (T): {T_earth} seconds or approximately {T_earth / (60 * 60 * 24 * 365.25)} years\")\n",
    "print(f\"Orbital eccentricity (e): {e_earth}\\n\")\n",
    "\n",
    "\n",
    "l1_halley = 8.7830e10\n",
    "v1_halley = 5.4529e4\n",
    "\n",
    "\n",
    "l2_halley, u2_halley, a_halley, b_halley, T_halley, e_halley = compute_parameters(l1_halley, v1_halley)\n",
    "\n",
    "\n",
    "print(\"For Halley's comet:\")\n",
    "print(f\"Distance to the Sun at aphelion (l2): {l2_halley}\")\n",
    "print(f\"Velocity at aphelion (u2): {u2_halley}\")\n",
    "print(f\"Semi-Major Axis (a): {a_halley}\")\n",
    "print(f\"Semi-Minor Axis (b): {b_halley}\")\n",
    "print(f\"Orbital Period (T): {T_halley} seconds or approximately {T_halley / (60 * 60 * 24 * 365.25)} years\")\n",
    "print(f\"Orbital eccentricity (e): {e_halley}\")"
   ]
  },
  {
   "cell_type": "markdown",
   "metadata": {},
   "source": [
    "#### Test your program by having it calculate the properties of the orbits of the Earth (for which $l_1 = 1.4710 \\times 10^{11}$ m and $v_1 = 3.0287 \\times 10^4$ m s$^{−1}$ ) and Halley’s comet ($l_1 = 8.7830 \\times 10^{10}$ m and $v_1 = 5.4529 \\times 10^4$ m s${−1}$ ). Among other things, you should find that the orbital period of the Earth is one year and that of Halley’s comet is about 76 years."
   ]
  },
  {
   "cell_type": "markdown",
   "metadata": {},
   "source": [
    "Answered it all in one above"
   ]
  }
 ],
 "metadata": {
  "kernelspec": {
   "display_name": "Python 3 (ipykernel)",
   "language": "python",
   "name": "python3"
  },
  "language_info": {
   "codemirror_mode": {
    "name": "ipython",
    "version": 3
   },
   "file_extension": ".py",
   "mimetype": "text/x-python",
   "name": "python",
   "nbconvert_exporter": "python",
   "pygments_lexer": "ipython3",
   "version": "3.11.4"
  }
 },
 "nbformat": 4,
 "nbformat_minor": 4
}
